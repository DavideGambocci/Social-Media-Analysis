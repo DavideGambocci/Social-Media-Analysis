{
 "cells": [
  {
   "cell_type": "code",
   "execution_count": 1,
   "metadata": {
    "collapsed": true
   },
   "outputs": [],
   "source": [
    "# Tentativo di analisi completa\n",
    "# -----------------------------\n",
    "# Import library\n",
    "\n",
    "import re\n",
    "import ast\n",
    "import json\n",
    "import nltk\n",
    "from nltk.stem import SnowballStemmer\n",
    "from nltk.corpus import stopwords\n",
    "from nltk.tokenize import word_tokenize\n",
    "from sklearn.feature_extraction.text import TfidfVectorizer\n",
    "from sklearn.decomposition import TruncatedSVD\n"
   ]
  },
  {
   "cell_type": "code",
   "execution_count": 2,
   "metadata": {
    "collapsed": true
   },
   "outputs": [],
   "source": [
    "# Data loading\n",
    "path = 'C:/Users/Davide/' # Sostituire il percorso quando si cambia location\n",
    "data = []\n",
    "with open(path + 'Corriere.txt') as f: # Sostituire il percorso quando si cambia location\n",
    "    for line in f:\n",
    "        data.append(json.loads(line))\n",
    "\n",
    "        \n",
    "collection_testi = []\n",
    "for i in range(0, len(data)):  \n",
    "    collection_testi.append(str(data[i]['title']) + str(data[i]['text']) + str(data[i]['tags']) + str(data[i]['resume']))\n",
    "    "
   ]
  },
  {
   "cell_type": "code",
   "execution_count": 3,
   "metadata": {
    "collapsed": true
   },
   "outputs": [],
   "source": [
    "for i in range(0, len(collection_testi)):\n",
    "    f= open(\"Corr%s.txt\" %str(i) , \"w+\") #Il nome potrebbe cambiare\n",
    "    f.write(collection_testi[i])\n",
    "    f.close() "
   ]
  },
  {
   "cell_type": "code",
   "execution_count": 4,
   "metadata": {
    "collapsed": true
   },
   "outputs": [],
   "source": [
    "# Routine for cleaning documents\n",
    "def clean(path):\n",
    "    with  open(path, 'r') as to_clean:\n",
    "        one_line = ''\n",
    "        for string in to_clean.readlines():\n",
    "            one_line += string.lower()\n",
    "    to_clean.close()\n",
    "    \n",
    "    #Special espressions of html format\n",
    "    to_replace = ['\\\\n','\\\\t','\\\\r', '\\\\', '&nbsp'] \n",
    "    \n",
    "    for item in to_replace:\n",
    "        one_line = one_line.replace(item,' ') \n",
    "\n",
    "    cleaned = ' '.join(word for word in one_line.split() if len(word)>1)\n",
    "    \n",
    "    # All other special characters\n",
    "    definitive = re.sub('[^a-zA-Zàéòùè]', ' ', cleaned)\n",
    "    \n",
    "    # Just the stopwords remain\n",
    "    word_tokens = word_tokenize(definitive)\n",
    " \n",
    "    filtered_text = [w for w in word_tokens if not w in stop_words]\n",
    "    cleaned = ' '.join(word for word in filtered_text if len(word)>1)\n",
    "    \n",
    "    with open(path, 'w') as to_clean:\n",
    "        to_clean.write(cleaned) \n",
    "        \n",
    "    to_clean.close()\n",
    "    \n",
    "    return "
   ]
  },
  {
   "cell_type": "code",
   "execution_count": 7,
   "metadata": {},
   "outputs": [
    {
     "name": "stdout",
     "output_type": "stream",
     "text": [
      "[nltk_data] Downloading package stopwords to\n",
      "[nltk_data]     C:\\Users\\Davide\\AppData\\Roaming\\nltk_data...\n",
      "[nltk_data]   Package stopwords is already up-to-date!\n",
      "[nltk_data] Downloading package punkt to\n",
      "[nltk_data]     C:\\Users\\Davide\\AppData\\Roaming\\nltk_data...\n",
      "[nltk_data]   Package punkt is already up-to-date!\n",
      "ok\n",
      " matte figl fin acid riin dov mor anni fa rom mort tropp tard dov mor cinquant anni fa mormor incorregg dialett sicil santin matte pent maf confess strag capac cos dop prim dichiar magistr rap figl tredicenn giusepp uccis dop due anni segreg ex mafios colpevol tant omicid volt vittim maf adess dic content mort tot riin cos final chiud capitol cert segu sbagl fid famigl intorn madon ganc brusc forz appogg lasc tropp spaz rovin invec anni sessant vol togl mezz fatt giusepp ruffin corleon ved buon occhi nè nè caloger bagarell ammazz strag vial laz riin paur ruffin evit incontr poi ruffin mort lett riin ostacol fatt arrest luc ligg rimast sol comand ignor capr molt furb organizz traged mett altro voc stess circol poi alle due ammazz altro destin esser ammazz traged success sempr ignor volt nemmen riusc cap dic altre person pens prend gir cos toller decid uccid parl sempr guerr maf guerr fatt sol altri sub stat stermin guerr cert riin mess test attacc stat pres ordin altri decis stat dov mett ginocc davant può pens cos gen invec convinc far accord mett far strag sol ignor pot pens rest pied dop decis far part par averl vist ultim volt prim strag capac dop ricord anda prend accompagn appunt palerm dov incontr nuov giorn arrest convoc riunion anch aspett insiem altri poi sap notiz ce andat rimast sempr silenz differt quand parl altri collabor spieg giudic mort fam vest famigl zitt maresciall accompagn stup no conosc ben so personagg pot dirm nient perd cos ammazz bambin no colpevol riin carc per cogn leoluc bagarell ancor liber pot mand dir lasc andar quel ragazzin innocent fatt signif pur zampin carogn dic paesan men mal mort np ex mafios confess capac ignor furb mett altro guerr maf fatt sol stat stermin bast\n",
      " attent barcellon madrid ammett ment attacc rambl inform indagin pien sorpres dopp attent rambl barcellon furgon invest uccis quattord person agost scors lungom cambrils vicin tarragon nott seguent quand cinqu terror piomb aut passant uccid fer altri cinqu prim esser ammazz mossos esquadr poliz catalan imam ripoll comun centinai chilometr nord barcellon abdelbak es satty identific quas sub regist due attacc stat confident serviz segret spagnol second quotid on lin okdiar com rapport imam cni centr nacional de inteligenc ora centr stralc inchiest affid procur dolores delgad espert organizz terrorist fascicol stat segret giudic istruttor fern andreu audienc nacional stess quotid rivel giorn prim esist tracc telefon quattr min intercors fra sed central mossos esquadr autist furgon semin mort rambl barcellon enne younes abouyaaqoub volt elimin colp poliziott mentr mostr cintur esplos poi dimostr fint telefon part sed poliz vers cellul terror due ore prim travolgess metr passant rambl okdiar com lasc sospett investig abouyaakoub inform mossos agent dat giudic andreu altra spiegazion cerc proprietar aut rimast dannegg esplosion villett alcan cost chilometr sud barcellon stess esplosion vigil attacc rambl mort imam abdelbak es satty quind può forn version dopp gioc serviz retribu cni strateg massacr omagg isis serviz intelligenc spagnol invec ammett soltant part frequent imam stat contatt confident arrest tre anni fa reat conness narcotraff abdelbak es satty avvicin agent serviz quand difes sosten esser stat costrett commerc drog ambient jihad prest poi collabor spagnol imam stat comunqu molt attiv jihad invi volontar sir iraq vaghegg mett segn madr tutt strag europ indottrin dozzin giovan marocchin pass precipit azion quand laborator imam alcun complic manegg poc periz tatp perossid aceton esplos nitroglicerin salt ari alcan np tratt imam ripoll mort esplosion cov cellul terror rapport uom cni centr nacional de inteligenc ora centr stralc inchiest affid procur dolores delgad\n",
      " nuov tesl roadster super elettr km segret bolid batter elon musk tip mezz misur paragon stev jobs formid capac present prodott colp altra volt segn nott unveiling camion batter inventor tesl svel jolly taschin nessun attend roadster sport prestazion mostruos almen cart moss distrarr pubblic problem finanziar produtt colp costruttor californ annunc obblig assicur liquid fresc graz prenot superc fors bast comunqu far sogn spost confin tecnolog elettr molt là ved fatt np\n",
      " selvagg lucarell ien cas brizz gogn giornal scorrett selvagg lucarell ien cas brizz gogn giornal scorrett np\n",
      " salam cioccol molt facil decor zuccher vel salam cioccol molt facil decor zuccher vel np\n",
      " marijuan light va fier cannabis legal mill deriv canap salon mil marijuan light va fier cannabis legal mill deriv canap salon mil np\n",
      " np\n",
      " crudel maleficent first lady tesor catt ream louis linton mogl segretar tesor stev mnuchin scal posizion web corr divent personagg invis amministr natural cert distanz numer indiscuss donald trump pubblic instagram ser fot scatt mentr insiem scend charter stat scarrozz kentucky ecliss sol ce vogl perd qualc compars ser televis csi ny cold cas fiss abbigl gran marc unic natural altriment spieg fattur miliardar cas mod legg cert comment social fa sol question eleg sens estet propr giorn git louisvill descritt meticol outfit partecip tripud sciarp hermes occhial sol tom ford altro ancor inevit reazion rabbios coral web stat unit milion person viv sott line povert cas vol bass louis rispos irat ricchezz segn nobilt risult maggior capac cos via poi qualcun spieg esager torn instagram scus tem fiss ret sol ier pubblic articol perfid punt partenz fot scatt altro giorn tipograf federal coniug mnuchin osserv lenzuol bigliett dollar sguard po tropp proprietar prim banconot firm nuov segretar tesor louis sfil guant tocc cos vol comunic signor linton scriv vaness friedman tutt vest ner lung guant pell domin lung gon na ner pell ampi cintur ner pell giacc ner tacc spill ner rispost giornal segu onda web mod vest malvag ovunqu nazist gener trenc pell ner fin hermann ring stival ner oppur altre ipotes the terminator prim version darth vader catt guerr stellar ancor sempr quotid americ potrebb sugger ambigu moral catwoman ribellion matrix uniform bas domin scherm sadic affil gang motocicl chiud ultim paragon posizion angelin jol maleficent poi comment twitter louis linton sembr usar que dollar compr dalm ora dat sap esist altra louis biograf legg pers madr quand anni diciottenn trascors dodic mes volontar zamb np iron look louis linton mogl ministr mnuchin fiss abbigl gran marc ultim fot ritra tutt vest ner lung guant pell domin\n",
      " cappott trasform divent nuov oggett desider cappott cap tradizional mod trasform divent nuov oggett desider stagion tratt per lifting piuttost mutazion genet tweed color stamp conviv caos romant mot botan pellicc prad allacc sbilenc balenciag simil plaid misson coloratissim empor arman vittor celest ros valentin princip galles ricam erdem patchwork vital divers estrazion street style trasfer formal celebr individual stil cap minimal guardarob divent massimal assecond uom social iperconness gent vuol aver sempr stimol nuov orma malatt poss farc nient ragion gai trussard direttr creat omonim marc scommett tint fort mix stil prossim stagion mod autunn invern propon cappott ogni tip donn appen sopr ginocc lung fin cavigl avvolgent confortevol copert linus tendenz po ricord redingot eleganton anni port sopr vest set quand andav ball charleston osserv francesc tegon direttor creat co titol brand seventy cappott anni mess part piumin apprezz performanc comod leggerezz idrorepellt due stagion torn icon stil rinnov fogg tess sempr sens divert può indoss mattin ringiovan abbin color sempr conson fin qualc temp fa scandalizz cultor stil stamp fior abit fior persin lung ser quand abbin stamp fantas divers sugger gioc unic crom cappott quadr ross abit ton ross azzard divent facil capospall sorprendent acquist stagion può far riviv cuor bast aggiung bell cintur alta strizz punt vit divent sub modernissim sugger espert port tacc centimetr sneaker cappott conserv intatt pot esalt femminilitànp tweed color stamp botan pellicc conviv caos romant\n",
      " ser giorn pronost sconc rom laz già sparegg napol favor milan inter può vol sembr giorn tend allung classif rom laz piccol sparegg autunnal napol milan sampdor juventus due part grand qualit favor chiar rest assest med occhi per torin belott vicin gol squadr vicin post giust rest infin grand curios der benevent stavolt potrebb far sorpres np\n"
     ]
    },
    {
     "name": "stdout",
     "output_type": "stream",
     "text": [
      " lettur fa fest anni compleann sogn tradizion social giorn citt mil ritrov intorn libr bookcity fa ret coinvolg fin domen librer muse luog arte pass teatr fondazion quartier assoc ospit sal altri festival temp libr present altroier sal buzz festival metropol percors perifer mentr alcun incontr event ved collabor altre storic kermess milanesian dialog uom pistoi nuov numer de lettur edicol fin sab novembr numer special pagin dop scors settiman sol accompagn giorn manifest milanes propon altri nuov spunt riflession moltissim autor saggist pensator cominc straordinar presenz import fotoreporter guerr mond americ james nachtwey firm copertin numer fotograf finor ined dedic mur berlin maestr dedic mostr mil palazz real dicembr apertur numer prem streg francesc piccol propon riflession smisuratezz sogn sogn grand anzi grandissim scrittor offre altern interess addomestic fantas selvagg aspir altro autor interv enric rotell parl luog quas selvagg sogn bens campagn stermin po isol wisconsin raccont nickolas butler libr nuov romanz uscit marsil amer lontan metropol piccol villagg cas isol fatt vit rustic mental divers gent accend fuoc bivacc va cacc cerv part oce spagn scrittric clar nchez bookcity doman muse scienz tecnolog raccont elisabett rosaspin spagn com anni ottant temp debutt letterar ora pubblic ital garzant fresc democraz liber capac iron dot second scrittric oggi smarr cad origin stor cos raccont scrittur origin origin rilettur adam eva dat studios americ stephen greenblatt scriv giul giorell illustr mit progenitor anten romanz avventur scriv valer massim manfred individu var autor esemp emil salgar ered raccolt megaseller wilbur smith ered conosc storic bran umbert eco lettur pubblic ricord scrittor propr omagg eco chiud bookcity domen teatr parent import memor inquiet rimont antisemit disc filosof donatell ces storic psicoanal èlisabeth roudinesc numer interveng molt altri autor sandr verones conduc emozion dialog cantautor niccol fab teres ciabatt convers sebast maur filipp tim rispett regist interpr film relazion trans miglior amic ciabatt stat ier bookcity romanz uscit mondador torn doman occasion special fest de lettur propr mes novembr infatt lettur comp anni nat prim numer novembr festegg grand fest sal buzz sed corr partecip propr ore via balzan palc present aless rastell sal sett scrittor autor artist proporrann ciascun parol chiav vocabol contien stor qualc mod segn vit lavor mod pens raccont pubblic event intitol titol hashtag perchèinvit lettor partecip fest sal buzz condivid social parol stor personal invi post account social lettur twitter lettur instagram facebook menzion pagin insert laletturacorr qual parol ognun può scegl propr intant può prend ispir parol stor sett ospit raccont fest doman pomerigg eccol infatt ospit parol teres ciabatt scelt memor albert fortis parl music anim aless gazzol raccont parol incontr fab genoves spieg import parol arterioscler psicolog matte lancin dir adolesct filosof carl sin illustr termin simultan artist velasc vital parl disegn fest chiud brindis final ingress liber prenot scriv email rsvp fondazionecorr it np insert francesc piccol fantas omagg umbert eco domen novembr fest sal buzz sed corr social network inviatec parol stor\n",
      " virgil comand poch intimid padr difend mes success croll soffitt cinquecent occup rav party vide hard fra student post social bomb cart lanc durant ricreazion adess cocain consum scuol pac virgil lice classic via giul anno scors carabinier entrat arrest student spacciator prim settembr nuov dirigent scolast carl alfan oggi rivel senz mezz termin esistt clim mafios intimidator intern scuol part gruppett student genitor spallegg presid cos succed illus dop batost dat carabinier situazion tranquillizz dur poc prof segretar collabor dic qui cos anni clim mafios bomb giorn scors esemp scagl pallon violenz altri student fum insegn signif comand controll territor rifer fantomat collett ragazz qual rapport mai cominc pens assemble dop croll tett cerc stimol affinc virgil divent guid altri lice rivend sicurezz fin parl stat occup iniz anormal strumentalizz gazzarr sess drog alcol altro impegn polit qui sann nemmen cos minor soggett comand maggior silenz fin tropp silenz accus pesant verit ogni class rappresent vivai occup ex alunn anni adess per ce anni attegg sfid intimid compagn adult senz parolacc comunqu veng famigl rom ben subdol trasform scuol port franc scuol pubblic mic lobby student genitor vist circol drog tant quand convoc padr madr rispond spinell serv calm figl consum stupefacent scuol fond preoccup megl class strad qualcun arriv rispond vuol dir qui rob buon prof reag alcun altissim profil cultural impaur altri invec affront provoc interveng rimprover mett not registr lott impar genitor gliel togl ricorr tar bocciatur vinc sospett ragazz poc meritevol otteng vot alti condott ora poi controll rivolt procur sempr denunc accad qui dentr occup edific effrazion dannegg adess bomb cart genitor minimizz vogl farl pass petard figl manipol qualsias episod prim croll adess quel vide altro giorn qualcun prem contemporane cinqu pulsant allarm antincend costring far evacu scuol scherz vien già vogl moll guard poss mett miglior prof pattugl cortil ricreazion nè perd mes insegn fra protest denunc dispett volt vorre andar insegn perifer scuol figl camorr almen sapre far np parl presid carl alfan clim intimidator mafios cre ragazz rom ben dic parolacc subdol ancor consum drog genitor assolv figl mal dic qui rob buon\n",
      " pap francesc brav medic accompagn pazient mort brav medic accompagn mal fin fin francesc continu riflett tem fin vit mort fatt omel mess mattutin sant mart dett moral lec rinunc applic mezz terapeut sospend quand impieg corrispond quel criter etic umanist verr segu defin proporzional cur oggi raccont altro giorn trov sacerdot enne men qualcos buon sent ben dottor dop vis dett guard cos brutt fors temp ferm ferm quest altra ferm incominc cammin accompagn fin fin brav quel medic sempr omel riport rad vatican pap dett pens mort fantas brutt realt brutt brutt dip me pens sicur incontr signor bell mort ven incontr dir vien vien benedett padr vien me aggiunt giorn tolt altro rimarr tolt tolt andar signor pens vit fin fa ben np omel mess mattutin mart francesc torn tem fin vit pens mort fa ben brutt fantas realt far cont\n",
      " monic boggion regin nuot paralimp compet rend felic nuot divert bast vogl far anch gar tutt altre ragazz normodot monic boggion nat diciannov anni fa dipleg spastic paralis colp gamb pot compet par tropp svantagg pers partenz stat avvicin vasc giul due anni piccol disabil chiest vol allen squadr atlet paralimp appen nat aics pav nuot dop anni monic sol realizz sogn sfid altri cronometr divent miglior atlet paralimp mond vincitr punt world series copp mond organizz prim volt quest anno ipc comit internazional sport disabil monic fuoricl detien cinqu record mond categor scal bass numer maggior imped fisic metr stil liber ran dors mist agon rend felic quand gar ved nient negat condizion sport fa oltrepass disabil anzi riesc farl divent bellissim punt forz aiut esser molt sicur me monic ver atlet adess prepar campion mondial messic programm iniz dicembr allen otto volt settiman ogni sed due ore mercoled venerd dopp allen domen ripos concil stud costrett ruot quattr piscin pav lod dop diplom classic iscritt prim anno biotecnolog univers pav piac specializz camp genet dedic ricerc trov cur malatt ancor ce pai anni iniz aver difficolt arti superior diagnostic diston ancor sa poc difficolt scriv adatt utilizz color appunt concett quand legg test cre alfabet ognun divers signific sguard sol sorris abbandon mai ved sempr lat posit cos quand peggior fisic pass classif quel moment iniz scal ranking mondial poc temp liber riman allen univers ascolt music piac pop ama uscir ser amic squadr nuot sport individual sol quand garegg fantast spir grupp cre compagn instaur rapport profond vann oltre spogliatoi sezion paralimp aics pav nuot nat cinqu anni fa ide necess david bellinger carabin pension padr giul ragazz avvicin monic piscin figl desider garegg spieg bellinger farl dov cre grupp affil feder italian nuot paralimp cos dat vit progett nuot cors princip attiv econom rivolg sa già nuot dargl possibil misur competizion regional nazional internazional adess atlet aics pav nuot compres camill chiar anni miet medagl ultim campion europe giovanil divert molt raccont monic ironizz disabil scherz pesant esemp alcun punt corp veng tocc provoc mov involontar purtropp altre sann fatt dar schiaffon person accant me monic prepar valig prossim sfid mondial messic previst settembr stat spost dop terremot allen ben avversar agguerr sper miglior già pens dop otten matur vol andar vacanz mar grec mes rim gennai part sicur magar grec orma fa tropp fredd np pav enne otten titol miglior atlet paralimp mond\n",
      " way of the futur religion silicon valley dio artificial silicon valley spaz soltant progett visionar nuov startup innov religion iniz aver ruol chiar sempr leg manier indissolubil mond tecnolog cas particol way of the futur ver propr cult fond anthony levandowsk ex ingegn googl centr waym uber furt document gigant mountain view component aut guid autonom parl religion recent interv chies pon obiett sol vener realizz divin bas intelligt artificial propr intent dar vit cred fond potenzial dimostr fiduc smisur levandowsk possied avanz vers situazion macchin molt intelligent esser uman fiduc condivis personal imprenditor elon musk fisic stephen hawking fondator microsoft bill gates svilupp incontroll intelligt artificial ide ex ingegn googl rif cert singolar second futur macchin riusc risolv problem molt rapid manier efficac uomin arriv soluzion miglior levandowsk prefer per far rifer altro concett transizion oggi prend cur mond emers esser vivent intelligent futur verific passagg consegn entit intelligent govern ancor dat precis quand ciò avverr parl per mes anno levandowsk comunqu prim sbarc mart ogni cult rispett way of the futur dovr dot propr libr sacr luog rifer profess propr fed ciò per distingu sempr religion altre tradizional presenz divin uomin potrann entrar dirett contatt dat artef np fond ex ingegn googl anthony levandowsk prefigg realizz vener divin bas intelligt artificial princip fondamental macchin giorn govern mond megl\n",
      " chapecoens fest spogliato salv anno disastr aere chapecoens fest spogliato salv anno disastr aere np\n",
      " alto adig affitt cas sol cristian polem annunc discriminator bolz annunc sintet semplic chiarissim appi offro person copp cultur cristian appart ammobil comun separ segu numer cellul appars settimanal annunc gratu baz vast sezion merc immobil inserzion pass inosserv quell esplic rifer appartent relig candid inquilin unic refert indic proprietar appart evident ritien condizion imprescind tratt per discrimin punibil legg spieg carl perseghin president regional fiaip feder agent immobiliar professional pass già stat condann citt italian inserzion simil propr bisogn sempr evit scriv annunc tip fras rappresent discrimin esse bas razz sess orient sessual lingu religion od altre condizion personal social discrimin ammiss mentr invec poss prefer esemp inquilin referenz stipend fiss fumator oppur senz animal domest normal spieg perseghin richiest veng accett senz problem requis cap rinunc senz polem cas cred megl spieg condizion voc piuttost formalizz annunc infatt propr aver precis ner bianc requis cultur cristian espon inserzion risc potenzial denunc qualor qualcun riteness discrimin cant proprietar appart appi cerc gett acqua fuoc polem compars social network tratt altoatesin prefer rest anonim comunqu assicur razzist piac assolut ver conosc sa rest stess palazz molt stranier affitt albanes marocchin qual vad assolut accord allor richiest appartent relig pretend cultur cristian riguard uom spieg appart question viv egli stess tratt appart interess null cas luog viv decis infatt affitt alcun stanz cucin comun quind verrebb cre sort convivt nuov inquilin nuov inquilin mot cred cos stran chied requis cultur cristian andar accord coinquilin bisogn aver abitudin affin almen stess mental molt cos comunqu precis ancor proprietar appart annunc intend scriv preferibil cristian necessar uom rif comunqu accus aver discrimin possibil inquilin altre fed oppur ate discrimin nessun anzi palazz div inquilin stranier nessun problem conclud dev condivid local cucin vorre aver almen cert affin tratt rest auspic personal qualcun potrebb riten legittim tuttav può ven espress mod esplic annunc cas stigmatizz agent immobiliar np annunc appars settimanal annunc gratu pon accent suil appartent relig richiest possibil inquilin proprietar razzist feder agent immobiliar cos risc condann\n",
      " dispers sottomarin argentin cors temp salv marina bord mister scompars sottomarin oltre due giorn tien argentin fiat sospes film catastrof annunc traged soltant problem comun ara san juan militar bord donn risal cost argentin vers nord quand pers contatt forz armat ammess ultim comun bas terr avven mercoled mentr sottomarin navig ushuai terr fuoc vers mar plat chilometr sud buenos aires second protocoll quel moment dov navig superfic quand orma notiz iniz circol marin dov ammett sottomarin desaparecid letteral scompars null vien usat espression problem comun parl ancor emergt ipotes parecc cert cad contatt rad port inevitabil pens problem elettr black out total tocc sistem backup altern scatt situazion emergt esser scopp incend bord scaf total pann posizion segnal due giorn fa ultim vogl esser nè drammat nè tropp allarm dett portavoc marin enriqu balb moment prefer pens qualc ser problem riguard appunt comun quind impiant elettr cav antenn qualcos altro vien scart ipotes attent precis equipagg dispon viver ossigen abbond attes avveng ritrov nav aere monitor tutt possibil frequenz qual dispong radiotrasmettitor bord cil stat unit gran bretagn mess disposizion mezz quest ultim particol dispon aere imbarc region acque territorial isol falkland abbast prossim punt ara san juan scompars sottomarin dotazion marin argentin propulsion diesel elettr convenzional funzion scenar guerr attacc nav altri sottomarin scaf stat ferm sett anni lavor ammodern prolung vit util altri tre decenn stat aggiust sostitu element batter are ritien poss esser sort problem elian mar krawczyk prim ufficial sottomarin sudamer raccont quotid clarin donn anni padr raccont govern imbarc ushuai vol sal bord compliment ufficial marin tre anni tard fatt domand imbarc sottomarin suscit cert sorpres ambient tradizional maschil np marin buenos aires pers contatt nav san juan novembr\n",
      " biell uccis colp fucil volp stat adott paes uccis colp fucil lasc mor soffert atroc fin fatt volp zuccar coggiol provinc biell stor fatt gir web animal divent mascott paes temp divent confident uman rec paes cerc cib talment mit stat pratic adott abit luog evident qualcun cos piac notiz ret stat diffus attravers pagin facebook hav dream post scritt stat uccis fucil volp mascott zuccar coggiol frazion creatur abitu scend centr abit quand ven dat cib gatt randag complet inoffens mett aspett mang assiem orma fid uom pericol nessun poi nessun possed pollai fiduc vers uom ingann uomin purtropp ugual malvag prefer sfog propr frustrazion essa fucil unic arma riusc utilizz post propr cervell ahim latit sindac coggiol gianluc fogl barbisin comment stup cattiver fatt vers animal cre alcun tip problem cittadin sincer cap gest ora cerc cap poss aver comp tal azion special zon abit np animal stat asci mor soffert atroc strad zuccar coggiol sindac stup cattiver vers animal cre alcun tip problem cittadin\n"
     ]
    },
    {
     "name": "stdout",
     "output_type": "stream",
     "text": [
      " torin insult razzist enne bus ferm uom enne disoccup torin uom scors settiman insult epitet razzist giul studentess color promess basket torines aggression verbal avven venerd scors intorn mattin bord bus numer denunc quindicenn uom insult inutil vai scuol tant fin strad tornaten paes stat carabinier rivol grugliasc graz collabor gtt grupp trasport torines militar acquis immagin telecam sorvegl mezz pubblic inform relat obliter passagg registr stess mezz giorn ora fatt riusc cos rintracc uom aggressor stat riconosc assol certezz vittim adess dovr rispond violenz mot razzial già conosc forz ordin pass stat segnal serviz territorial alcun episod caratterizz comport antisocial dov abus etil sostanz stupefacent sol alcun occasion già sottopost tratt sanitar obbligator luned scors promess trov colpevol atto volg violent pat possibil preg scus magistr invit sospett fars avant procur aggiunt patriz cap sostit eugen ghi giorn ier enne stat lung ascolt carabinier qual forn version fatt ricord aver litig person dett senz contestualizz episod ferm rest impossibil giurid vist pen massim previst reat proced richied misur cautel custod carc sottoline spatar not procur valut possibil iniz assum ambit propr compett fin favor percors conten pericolos social soggett evident conness situazion disag np stat disoccup enne aver dett studentess color inutil vai scuol tant fin strad torn paes\n",
      " carig firm accord aument capital dop tempest consorz garanz salt titol sospes bors due giorn fren aument capital indispens ottemper prescrizion bce fatt trasform cuor venerd nott ripartt stat infatt firm deutsc bank credit suiss barclays contratt costitu consorz garanz dovr fars caric eventual inopt ricapitalizz second apprend carig provved temp brev integr prospett inform già deposit consob amministr deleg carig paol fiorentin ce fatt lavor test bass nott giorn parol ricuc strapp fra banc garanz deutsc bank crèdit suiss barclays soc principal carig particol malacalz invest annunc ufficial formalizz consorz sostegn aument capital milion eur banc genoves stat dat venerd nott risolv sembr situazion quas senz uscit già prospett scenar assa depr stat var fattor oltre determin manager terz carig gir poc anno gioved matt malacalz malacalz invest mess firm mancanz formal stat casus bell determin stall banc garanz imprenditor firm impegn sottoscriv quot cent analog impegn pres finanz gabriel volp pront aument propr quot cent quind aggiunt coop oper portual aldo spinell malacalz invest chiest autorizz sal cent sottolin not può impegn ancor disponibil quind dichiar part principal soc milion eur pot esser sufficient dop nott burrasc mercoled assicur ce mett tutt scritt gioved fiorentin dipendent carig segnal incoragg mett tutt pall buc ce negoz front sol banc consorz garanz originar cerc altri interlocutor soprattutt investitor rivel import aver assunt decision mer npl miliard milion eur carig infatt pres impegn tratt cession esclus cred fondiar oper dovrebb realizz entro anno rassicur prospett increment liquid banc ester res morbid trattat formalizz consorz garanz fiorentin defin puzzl risolv poter lanc aument capital andat compon quind può dir aver raggiunt scop aver port banc oltre tempest np annunc ufficial formalizz consorz sostegn aument capital milion eur banc genoves\n",
      " huawe mat pro recension vide line max smartphon cines ora eleg mat pro vetr metall design riusc divers concorrent dopp fotocamer realizz leic miglior settor fantast scatt bianc ner nat eccellent autonom batter mah tant potenz chip kirin tantissim memor ram gb archiv intern ricezion qualit chiam tradizion top gamm huawe rest superior rival cos support ret veloc fin teoric gbps miglior sol interfacc grafic emu huawe ricc funzion manc coerenz grafic icon rest piuttost invol rispett altern tem scaric stor huawe miglior situazion anzi bruttarell molt interess funzion proiezion senz docking station permett colleg mat pro monitor estern eventual mous tastier ver novit chip funzion leg intelligt artificial npu soluzion tecnic interess moment senz chiar benef utent intervien fotocamer impost manier automat scen tramont piant animal food etc camb esemp grad cap quand opportun attiv hdr quand no npu dovrebb garant almen mes prestazion mat pro vad degrad fenomen assa comun android interess difficil dimostr men temp recension infin app ora attiv sol traduttor microsoft funzion cos senz cloud manier rapid version appogg nuvol pass lingu altra qui per traduttor appen passabil inus convers ver huawe bisogn mett fuoc killer featur andar applic potenz calcol npu mostr mod evident consum vantagg simil tecnolog già fatt apple fac id googl fot pixel xl recension altriment npu rimarr marketing realt eur mat pro rest smartphon line attual trend port merc top gamm sempr car pur sempr eur men costos rival dirett android not pixel xl lg np potent max batter chip intelligt artificial ora poc sfrutt\n",
      " rit chies mort riin raccont figl bambin sciolt acid rit chies mort riin raccont figl bambin sciolt acid np\n",
      " ritratt beb vio piccol grand italian ital vinc oggi rappresent beb vio giovanissim schermitr vint due medagl fiorett individual squadr mondial paraolimp rom parol descriv forz volont beb vio macin success success camp compres artist ogni ulterior augur conquist sempr nuov success dobb molt rivolg simpat eleg beb vio sembr natural pens imminent ruol istituzional rappresent ital iron mett mostr mond manifest dovrebber mutu tant napol fortun conosc beb vio anni fa quand ancor personagg pubblic contest provinc castelfranc venet prem nom po buff radicc oro don ciott molt colp beb allor poc bambin camb cors intervent prepar incentr stor inutil ricord undic anni promess scherm mening fulmin amput bracc gamb dop giorn ospedal beb dic genitor datem bracc gamb nuov vogl riprend tir scherm giorn vinc olimpiad effett settembr vinc oro fiorett paralimpiad rio poi riconferm quest anno mondial molt leg alex zanard campioness olimp scherm valentin vezzal elis franc aiut tratt sempr conosc person prefer sopravviv dramm gen beb trov dentr sè forz preval sort poet vittor william ernest henley tagl pezz malatt padron destin capit anim volt par quas stat sovraeccit fors dev impar dos chied tropp stess ogni cas ragazz molt insegn potrebb esser figl nipot np\n",
      " quattr smartphon iphon bell potent cost met liphon indubb re cronac tecnolog moment svett altri sol potenz design pecul isol ner sopr display sol funzion unic fac id prezz ined moment telefonin costos merc eur version gb memor divent gb davver paragon second classific ferm eur sub dop segu eur poi eur vist cifr oltre prestazion avversar sfid top gamm prezz merc trov disposit eccellett cost molt men ver spess offron medesim assistt client ovvi sistem oper android ios sempr vicin applic borsell risic dev necessar tagl prestazion esemp oneplus lanc merc prossim novembr dot display amoled pollic risolu val dir form panoram aliment processor potent bord snapdragon abbin gb gb ram gb gb memor due fotocam batter mah prezz stat ancor dichiar dovrebb ricalc modell precedent val dir eur second version fot oneplus compars vide caric onlin sbagl blogger np\n",
      " francesc mont cecil trad front soffert francesc mont cecil trad front soffert np\n",
      " usa incend divor palazz pian manhattan oltre pompier azion usa incend divor palazz pian manhattan oltre pompier azion np\n",
      " ital fuor mondial ventur romp silenz sconfitt unic verit ex nazional gian pier ventur romp silenz raccont version dop esclusion azzurr mondial russ licenz sconfitt soprattutt dolor poss spieg sol verit stat giorn difficil profond dispiac prov sensazion incompiutezz moment raggiunt traguard spieg tecnic guid nazional trasmess sens appartent orgogl mai prov prim può esser nient grand lavor me stess seriet professional riusc là convint farcel guid grupp ragazz smett mai ringraz parol amar ven polem sottolin fra righ stat unic ora pag flop mondial ventur prov guard oltre ora moment ripartt prim tifos successor augur riport ital mer nott streg san sir ricord freschissim ancor chiss temp addi senator nuov lev frastorn sens impott davant magl giall svedes respons vann condivis tes ex lavor prepar giovan grand salt pot poss ancor far mod arricc mov calc vittor sempr prodott mer tant stess temp sconfitt soprattutt dolor poss spieg sol verit moment insuccess bisogn dar rispost lung ser interrog np ex nazional rivolg italian giorn enorm dispiac\n",
      " tren bus aere client dev comand bast tren pendolar sovraffoll ritard compagn aere cancell massicc prenot autor regol trasport guid andre camanz decis dar strett livell qualit impres trasport tutel utent prim cos fiss lim sott qual impres svolg attiv trasport ferroviar livell regional potrann scend livell inser prossim contratt ente affid gestor serviz esemp fasc orar pendolar livell puntual regolar dovrann scend sott sogl rispett ovvi spieg camanz forn metodolog misur livell efficit sistem penal andrann fin risolu contratt incent cresc performanc contratt attual esser assent livell qualit minim esemp nessun previst impres ferroviar utilizz bigliett on lin serviz orma larg avvi alta veloc riguard invec cas compagn low cost ryan dat luog propr problem organizz pian consistent cancell vol stagion invernal autor propon tip oper coinvolg massicc vol debb esser sottopost form regol garant passegger rest sott osserv alcun scal italian cas ryan dovess conferm tagl vol prossim stagion potrebber evidenz problem equilibr econom np parl president authority andre camanz priorit imporr livell minim qualit regional grand attenzion uso dat evit concentr business\n",
      " citt senz disoccup german eichst tt potrebb esser sogn molt capital europe aver tass disoccup avvicin zer eichst tt poc mil abit region bavier realt german citt trov qualcun senz lavor quas impres precis parc natural vall altm hl trov piccol cittadin universitar barocc raccont giorn peggior centr architettur barocc viss bel mezz cris quand tass disoccup raggiunt cifr record ora bass tutt german pur numer compless disoccup appen milion tass disoccup tedesc bass temp unif ital tass disoccup attest settembr anni pass senz lavor arriv tutt altra stor eichst tt second giornal finanziar azi persin fatic trov lavor molt citt industrial sud german altre azi indott legg reportag piccol citt sembr uscit fiab fratell grimm favol parol sindac andre steppberger arriv nuov ordin perc abbast lavor soddisf domand second sondagg realizz dz bank azi tedesc bisogn lavor effett terz azi pers alcun commess propr mancanz manodoper camer commerc ingolstadt stim zon tutt attorn bavier mil post lavor vacant manodoper specializz problem ripercuot tutt econom territor mod riesc gener cresc econom np trov parc natural vall altm hl citt universitar centr bavier chilometr berlin tass disoccup\n"
     ]
    }
   ],
   "source": [
    "nltk.download(\"stopwords\") \n",
    "stemmer = SnowballStemmer(\"italian\") \n",
    "nltk.download('punkt')\n",
    "stop_words = set(stopwords.words('italian'))\n",
    "print('ok')\n",
    "for i in range(0, len(collection_testi)):\n",
    "    file_path = path + 'Corr' + str(i)+ '.txt' # Adesso arriva il bello...\n",
    "    \n",
    "\n",
    "    cleaned_text = clean(file_path)\n",
    "\n",
    "    full_cleaned_text = str(\"\")\n",
    "\n",
    "    with open(file_path, 'r') as f:\n",
    "        for line in f.readlines():\n",
    "            full_cleaned_text = full_cleaned_text + \" \" + str(line)\n",
    "\n",
    "    tokens = nltk.word_tokenize(full_cleaned_text)\n",
    "\n",
    "    stemmed_text = \"\"\n",
    "\n",
    "    for token in tokens:\n",
    "        stemmed_text = stemmed_text + \" \" + stemmer.stem(token)\n",
    "    \n",
    "    with open(file_path, 'w') as f:\n",
    "        f.write(stemmed_text)\n",
    "    \n",
    "#    print(stemmed_text)\n",
    "    "
   ]
  },
  {
   "cell_type": "code",
   "execution_count": null,
   "metadata": {
    "collapsed": true
   },
   "outputs": [],
   "source": [
    "import findspark\n",
    "findspark.init(\"/usr/local/spark\") # Potrebbe cambiare\n",
    "import pyspark\n",
    "from pyspark import SparkContext\n",
    "sc =SparkContext()\n",
    "from pyspark.sql.session import SparkSession\n",
    "spark = SparkSession(sc)"
   ]
  },
  {
   "cell_type": "code",
   "execution_count": null,
   "metadata": {
    "collapsed": true
   },
   "outputs": [],
   "source": [
    "from pyspark.sql import SQLContext, Row\n",
    "from pyspark.ml.feature import CountVectorizer\n",
    "from pyspark.mllib.clustering import LDA, LDAModel\n",
    "from pyspark.mllib.linalg import Vector, Vectors\n",
    "from pyspark.ml.feature import StopWordsRemover\n",
    "\n",
    "lista_topic = []\n",
    "lista_pesi = []\n",
    "\n",
    "for i in range(0, len(collection_testi)):\n",
    "    file_path = path + 'Corr' + str(i)+ '.txt' # Modificare se è necessario\n",
    "\n",
    "    data = sc.textFile(file_path).zipWithIndex().map( lambda cleanwords_idd: Row(idd = cleanwords_idd[1], cleanwords = cleanwords_idd[0].split(\" \")))\n",
    "    docDF = spark.createDataFrame(data)\n",
    "\n",
    "\n",
    "    Vector = CountVectorizer(inputCol=\"cleanwords\", outputCol=\"vectors\")\n",
    "    model = Vector.fit(docDF)\n",
    "    result = model.transform(docDF)\n",
    "\n",
    "    corpus = result.select(\"idd\", \"vectors\").rdd.map(lambda x_y: [x_y[0],Vectors.fromML(x_y[1])]).cache()\n",
    "\n",
    "    # Cluster the documents into three topics using LDA\n",
    "    ldaModel = LDA.train(corpus, k=3,maxIterations=100,optimizer='online')\n",
    "    topics = ldaModel.topicsMatrix()\n",
    "    vocabArray = model.vocabulary\n",
    "\n",
    "    weight = ldaModel.describeTopics(maxTermsPerTopic = 10)\n",
    "\n",
    "    wordNumbers = 10  # number of words per topic\n",
    "    topicIndices = sc.parallelize(ldaModel.describeTopics(maxTermsPerTopic = wordNumbers))\n",
    "\n",
    "    def topic_render(topic):  # specify vector id of words to actual words\n",
    "        terms = topic[0]\n",
    "        result = []\n",
    "        for i in range(wordNumbers):\n",
    "            term = vocabArray[terms[i]]\n",
    "            result.append(term)\n",
    "        return result\n",
    "\n",
    "    topics_final = topicIndices.map(lambda topic: topic_render(topic)).collect()\n",
    "\n",
    "    #print(vocabArray(int(weight[0][0][0])))\n",
    "    i = 0 \n",
    "    terms = ''\n",
    "    for topic in range(len(topics_final)):\n",
    "        #print (\"Topic\" + str(topic) + \":\")\n",
    "        j = 0\n",
    "        for term in topics_final[topic]:\n",
    "            terms = terms + ' ' + term\n",
    "            lista_pesi.append(weight[i][1][j])\n",
    "            j += 1\n",
    "        i += 1\n",
    "        lista_topic.append(terms)\n",
    "        "
   ]
  },
  {
   "cell_type": "code",
   "execution_count": null,
   "metadata": {
    "collapsed": true
   },
   "outputs": [],
   "source": [
    "# Comprendere a che cosa può servire la lista pesi (magari accanto alla lista topic ce ne mettiamo un'altra)\n",
    "# Calibrare il numero di parametri (numero parole e topic clusters)"
   ]
  },
  {
   "cell_type": "code",
   "execution_count": null,
   "metadata": {
    "collapsed": true
   },
   "outputs": [],
   "source": [
    "vectorizer = TfidfVectorizer(use_idf=True, ngram_range=(1, 3))\n",
    "X = vectorizer.fit_transform(lista_topic) # E' una lista \n",
    "\n",
    "lsa = TruncatedSVD(n_components = 2, n_iter = 1000) # Qual è il numero più corretto di componenti???\n",
    "lsa.fit(X)"
   ]
  },
  {
   "cell_type": "code",
   "execution_count": null,
   "metadata": {
    "collapsed": true
   },
   "outputs": [],
   "source": [
    "terms = vectorizer.get_feature_names()\n",
    "out = []\n",
    "for i, comp in enumerate(lsa.components_):\n",
    "    termsInComp = zip(terms,comp)\n",
    "    sortedTerms = sorted(termsInComp, key=lambda x: x[1], reverse=True ) [:10]\n",
    "    string = ''\n",
    "    \n",
    "    for term in sortedTerms:\n",
    "        string = string + ' ' + term[0]\n",
    "    out.append(string)"
   ]
  },
  {
   "cell_type": "code",
   "execution_count": null,
   "metadata": {
    "collapsed": true
   },
   "outputs": [],
   "source": [
    "# Salvataggio\n",
    "with open(\"Output News.txt\", \"w\") as output:\n",
    "    output.write(\"\\n\".join(map(lambda x: str(x), out)))"
   ]
  }
 ],
 "metadata": {
  "kernelspec": {
   "display_name": "Python 3",
   "language": "python",
   "name": "python3"
  },
  "language_info": {
   "codemirror_mode": {
    "name": "ipython",
    "version": 3
   },
   "file_extension": ".py",
   "mimetype": "text/x-python",
   "name": "python",
   "nbconvert_exporter": "python",
   "pygments_lexer": "ipython3",
   "version": "3.6.3"
  }
 },
 "nbformat": 4,
 "nbformat_minor": 2
}
