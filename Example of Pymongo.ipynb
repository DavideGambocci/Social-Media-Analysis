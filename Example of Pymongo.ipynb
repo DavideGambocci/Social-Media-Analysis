{
 "cells": [
  {
   "cell_type": "code",
   "execution_count": null,
   "metadata": {},
   "outputs": [],
   "source": [
    "import pymongo\n",
    "from pymongo import MongoClient\n",
    "client = MongoClient()\n",
    "db = client.EmployeeData\n",
    "\n",
    "\n",
    "\n",
    "def insert():\n",
    "    try:\n",
    "        employeeId = input('Enter Employee id :')\n",
    "        employeeName = input('Enter Name :')\n",
    "        employeeAge = input('Enter age :')\n",
    "        employeeCountry = input('Enter Country :')\n",
    "        \n",
    "        db.Employees.insert_one(\n",
    "            {\n",
    "            \"id\": employeeId,\n",
    "                \"name\":employeeName,\n",
    "            \"age\":employeeAge,\n",
    "            \"country\":employeeCountry\n",
    "            })\n",
    "        print('\\nInserted data successfully\\n')\n",
    "    \n",
    "    except(Exception, e):\n",
    "        print(str(e))\n",
    "\n",
    "insert()"
   ]
  },
  {
   "cell_type": "code",
   "execution_count": null,
   "metadata": {
    "collapsed": true
   },
   "outputs": [],
   "source": []
  }
 ],
 "metadata": {
  "kernelspec": {
   "display_name": "Python 3",
   "language": "python",
   "name": "python3"
  },
  "language_info": {
   "codemirror_mode": {
    "name": "ipython",
    "version": 3
   },
   "file_extension": ".py",
   "mimetype": "text/x-python",
   "name": "python",
   "nbconvert_exporter": "python",
   "pygments_lexer": "ipython3",
   "version": "3.6.1"
  }
 },
 "nbformat": 4,
 "nbformat_minor": 2
}
