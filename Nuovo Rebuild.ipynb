{
 "cells": [
  {
   "cell_type": "code",
   "execution_count": 2,
   "metadata": {
    "collapsed": true
   },
   "outputs": [],
   "source": [
    "parole_intere = ['computer', 'computer', 'computazionale', 'andiamo']\n",
    "\n",
    "parole_stemmizzate = ['comput', 'comput', 'comput', 'and']"
   ]
  },
  {
   "cell_type": "code",
   "execution_count": 5,
   "metadata": {
    "collapsed": true
   },
   "outputs": [],
   "source": [
    "def rebuild(parole_intere, parole_stemmizzate):\n",
    "    vocab = dict()\n",
    "    freq = dict()\n",
    "    \n",
    "    for i in range(0, len(parole_intere)):\n",
    "        \n",
    "        if parole_stemmizzate[i] not in vocab:\n",
    "            vocab[parole_stemmizzate[i]] = [parole_intere[i]]\n",
    "            freq[parole_intere[i]] = 1\n",
    "        elif parole_intere[i] not in vocab[parole_stemmizzate[i]]:\n",
    "            vocab[parole_stemmizzate[i]] =  vocab[parole_stemmizzate[i]] + [parole_intere[i]]\n",
    "            freq[parole_intere[i]] = 1\n",
    "        else:\n",
    "            freq[parole_intere[i]] = freq[parole_intere[i]] + 1 \n",
    "            \n",
    "    \n",
    "    return vocab, freq"
   ]
  },
  {
   "cell_type": "code",
   "execution_count": 6,
   "metadata": {},
   "outputs": [
    {
     "data": {
      "text/plain": [
       "({'and': ['andiamo'], 'comput': ['computer', 'computazionale']},\n",
       " {'andiamo': 1, 'computazionale': 1, 'computer': 2})"
      ]
     },
     "execution_count": 6,
     "metadata": {},
     "output_type": "execute_result"
    }
   ],
   "source": [
    "rebuild(parole_intere, parole_stemmizzate)"
   ]
  }
 ],
 "metadata": {
  "kernelspec": {
   "display_name": "Python 3",
   "language": "python",
   "name": "python3"
  },
  "language_info": {
   "codemirror_mode": {
    "name": "ipython",
    "version": 3
   },
   "file_extension": ".py",
   "mimetype": "text/x-python",
   "name": "python",
   "nbconvert_exporter": "python",
   "pygments_lexer": "ipython3",
   "version": "3.6.3"
  }
 },
 "nbformat": 4,
 "nbformat_minor": 2
}
