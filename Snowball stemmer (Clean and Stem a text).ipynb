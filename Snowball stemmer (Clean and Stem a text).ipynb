{
 "cells": [
  {
   "cell_type": "code",
   "execution_count": 1,
   "metadata": {
    "scrolled": true
   },
   "outputs": [
    {
     "name": "stdout",
     "output_type": "stream",
     "text": [
      "[nltk_data] Downloading package punkt to /root/nltk_data...\n",
      "[nltk_data]   Package punkt is already up-to-date!\n",
      " id objectid fa titl rap ten prigionier in una scatol per sett anni dal suo aguzzin la stor di colleen stan text una mattin di magg del in una grazios cas prefabbric nell perifer di red bluff cittadin immers nel verd sul versant settentrional dell vall del sacr in una giovan copp si prepar uscir con la lor bambin era un uom dimess sui trent anni con capell cast cen cascant in un goff riport sull front gli occhial da vist gocc inforc su un nas gross anche sua mogl avev un aspett piuttost anonim più bass di lui min occhial appar sin dal prim sguard una di quell donn che assecond sempr la volont del mar chi li avess guard in quel moment avrebb vist una felic famigliol che si apprest uscir per una git le cos per eran molt divers quell mattin enne di eugen si mett in cammin dirett una fest di compleann nell californ del nord negl anni settant spost fac autostop per ragazz dell età di collen era un esperit da non perd un mod divertent ed econom per viagg quand utilitar degl hooker cominc rallent davant lei la copp bord le fec un cenn di sal colleen si ferm un attim pens era una ragazz svegl died un occhi ai due coniug un rapid sguard alla bimb nel seggiolin sul sedil posterior si convins ad accett il passagg in aut quell uom alto cominc far stran discors sui giovan che spar colleen cominc trov quell copp sempr più sinistr stran cos quand si ferm all per una paus la ragazz fu tent di scapp resistett si diss che quell paur era irrazional che eran sol una famigl che non era null da tem sicur le fras che avev spavent dov esser batt che lei non avev cap tutt qui quand torn dagl hooker lor le offrir una barrett al cioccol che avev compr per lei era stat propr una stupid spavent per null si diss dop alcun min per ton umor camb dall convers si pass al silenz aut vir vers una strad sterr in poch second la ragazz si trov un coltell punt alla gol dal bagagliai spunt una stran scatol una spec di marchingegn che se non foss stat per arma punt sott al ment avrebb cred esser un giocattol per bambin dop averl ring insult minacc hooker la costrins mett la test in quell affar lo chius ripart percorser alcun chilometr poi aut si ferm colleen non sap dir quant strad avesser fatt dov pot trov due rapitor la fecer scend dall aut la condusser in un ambient chius dov sces alcun gradin poi la spogl appeser per pols un ganc in quel moment colleen cap che non sarebb mai torn cas eppur non avrebb mai immagin che gen di incub stav per cominc cameron janic si eran spos qualc anno prim dop div anni di fidanz si eran conosc ragazzin lui timid con gross problem interag con gli altri lei anonim convint che non avrebb mai avut un fidanz cominc una stor che per lei fu di accett dipendt per lui il prim sagg del sadism sessual di cui sarebb stat capac sopport insopport fin al matrimon poi si diss che non lo avrebb fatt mai più pur di perd quell uom per decis che sarebb stat un altra donn sub le tortur che avev pat lei cameron avrebb riserv sol il lat il patt preved che avrebber port cas una ragazz la richiuser in cantin ma lei non fac altro che urlar squarciagol allor hooker pres un coltell le recis le cord vocal quand cap che si stav dissangu le tir un colp di pistol la seppell il prim esper non era andat molt ben mar mogl escogit un sistem per aver una schi obbedient silenz avrebber educ lor avrebber quand quell mattin di magg si imbatt in quell ross ventenn dall ari svegl che fac autostop sull strad cap che era perfett infatt quand colleen ebbe la certezz che per sopravviv avrebb dov far tutt quell che due vol si costrins sopport ogni gen di seviz si abitu viv in una scatol sott il lett ad acqua degl hooker ore su era stat leg in manier che potess malapen respir ven nutr in quell unic ora di libert in cui dov anche esplet tutt le sue funzion corporal viv in una bar al bui in silenz picc tortur accord matrimonial preved che hooker non avrebb fatt sess con megl avrebb sottopost ogni gen di tortur sessual compres scaric elettr ma non avrebb mai avut rapport complet quand janic si accors che la ragazz che avrebb dov salv il suo matrimon lo stav mett in pericol che assorb total cameron camb strateg in camb per pretes che foss più present che le dedic più temp le cos sembr miglior su quel lett ad acqua sott il qual si nascond la scatol janic died alla luc il second figl le cos cominc camb per cameron decis di permett colleen di pass del temp in cas di aiut sua mogl con bambin la volont dell ragazz era orma era annient pur di esser risparm dall dolor punizion che le infligg cameron cominc ad accondiscend ad ogni richiest per ten liber nel lor appart ma soggiog psicolog la copp le raccont che esist una sett chiam che se avess osat ribell tent di scapp avrebb fatt del mal alla sua famigl con quest gen di condizion già offusc dall privazion dall tortur la ragazz divent la perfett schi colleen usciv far bad alla cas ai bambin la ser torn nell sua scatol per prem del suo comport cameron le permis di andar trov familiar si present ai suo vest con abit cuc man visibil alien in compagn di quell uom che dic di esser il suo fidanz di front quell scen genitor scelser di non far domand di non tent di tratten una scelt singol giustific tuttav dall paur di non ved mai più la propr figl se avesser osat contrast in quell brev vis familiar scatt colleen il suo fidanz un incred fot che li ritra abbracc vittim aguzzin sorrident davant all obiett gradual colleen fu permess di aver contatt con vicin che mai sospett che quell foss una ragazz ten in ostagg man man che acquist diritt per janic colleen divent sempr più pericol cos un giorn decis di far salt accord le confess che era sol un invenzion del mar per spavent la spins fugg coleen lo fec ma non denunc il suo persecutor fu la stess janic farl tre mes dop denunc alla poliz anche il rap omicid di scompars nel cameron hooker oggi in carc dov scont una pen di sua mogl janic che ha scelt di denunc il mar autodenunc ha avut una sentenz molt più liev colleen torn alla sua famigl ha ripres una vit normal si spos ha avut un figl oggi aiut la donn vittim di violenz dell fbi che avev cerc per anni senz trov hann continu stud il suo cas che hann defin senz precedent la stor di la ragazz nell scatol stat ispir per regist scrittor newspaper fanpag resum collen stan stat rap nel magg in californ da cameron hooker da sua mogl janic la copp ne fec la propr schi sottopon ogni gen di tortur seviz sessual costring viv una scatol ore su nel la ventisett collen riusc scapp il suo cas non ha precedent nell stor del crimin author angel marin dat lugl condivision np tags np link http www fanpag it rap ten prigionier in una scatol per sett anni dal suo aguzzin la stor di collen stan\n"
     ]
    }
   ],
   "source": [
    "import nltk\n",
    "import nltk\n",
    "import re\n",
    "from nltk.stem import SnowballStemmer\n",
    "stemmer = SnowballStemmer(\"italian\") \n",
    "nltk.download('punkt')\n",
    "\n",
    "file_path = '/root/Desktop/News'\n",
    "\n",
    "\n",
    "# Routine for cleaning documents\n",
    "def clean(path):\n",
    "    \n",
    "    with  open(path, 'r') as to_clean:\n",
    "        one_line = ''\n",
    "        for string in to_clean.readlines():\n",
    "            one_line += string.lower()\n",
    "    to_clean.close()\n",
    "    \n",
    "    #Special espressions of html format\n",
    "    to_replace = ['\\\\n','\\\\t','\\\\r', '\\\\', '&nbsp'] \n",
    "    \n",
    "    for item in to_replace:\n",
    "        one_line = one_line.replace(item,' ') \n",
    "\n",
    "    cleaned = ' '.join(word for word in one_line.split() if len(word)>1)\n",
    "    \n",
    "    # All other special characters\n",
    "    definitive = re.sub('[^a-zA-Zàéòùè]', ' ', cleaned)\n",
    "    \n",
    "    # Just the stopwords remain\n",
    "    \n",
    "    with open(path, 'w') as to_clean:\n",
    "        to_clean.write(definitive) \n",
    "        \n",
    "    to_clean.close()\n",
    "    \n",
    "    return \n",
    "\n",
    "\n",
    "cleaned_text = clean(file_path)\n",
    "\n",
    "full_cleaned_text = str(\"\")\n",
    "\n",
    "with open(file_path, 'r') as f:\n",
    "    for line in f.readlines():\n",
    "        full_cleaned_text = full_cleaned_text + \" \" + str(line)\n",
    "        \n",
    "tokens = nltk.word_tokenize(full_cleaned_text)\n",
    "\n",
    "stemmed_text = \"\"\n",
    "\n",
    "for token in tokens:\n",
    "    stemmed_text = stemmed_text + \" \" + stemmer.stem(token)\n",
    "    \n",
    "print(stemmed_text)\n"
   ]
  },
  {
   "cell_type": "code",
   "execution_count": null,
   "metadata": {
    "collapsed": true
   },
   "outputs": [],
   "source": []
  }
 ],
 "metadata": {
  "kernelspec": {
   "display_name": "Python 3",
   "language": "python",
   "name": "python3"
  },
  "language_info": {
   "codemirror_mode": {
    "name": "ipython",
    "version": 3
   },
   "file_extension": ".py",
   "mimetype": "text/x-python",
   "name": "python",
   "nbconvert_exporter": "python",
   "pygments_lexer": "ipython3",
   "version": "3.6.1"
  }
 },
 "nbformat": 4,
 "nbformat_minor": 2
}
