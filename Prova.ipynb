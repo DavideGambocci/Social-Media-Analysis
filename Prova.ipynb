{
 "cells": [
  {
   "cell_type": "code",
   "execution_count": 1,
   "metadata": {},
   "outputs": [
    {
     "name": "stdout",
     "output_type": "stream",
     "text": [
      "[nltk_data] Downloading package punkt to /root/nltk_data...\n",
      "[nltk_data]   Package punkt is already up-to-date!\n",
      "[nltk_data] Downloading package stopwords to /root/nltk_data...\n",
      "[nltk_data]   Package stopwords is already up-to-date!\n",
      "\"_id\" objectid(\"59770c9b995357789fa10394\"), \"newspaper\" \"la stampa\", \"resume\" allo studio la fase sperimentale di un sistema di nuova generazione, dal nome programmatico di “eflame”\" ], \"author\" \", franco giubilei\", ], \"title\" \"in emilia romagna una termocamera che aiuta rilevare gli incendi ], \"date\" pubblicato il \", \", \"25/07/2017\" ], \"text\" \"la tecnologia viene messa al servizio della prevenzione degli incendi, in un periodo particolarmente drammatico per nostri boschi assediati dai piromani: allo studio la fase sperimentale di un sistema di nuova generazione, dal nome programmatico di “eflame” (e sta per elettronico flame vuol dire fiamma, ndr), che consiste in due stazioni di monitoraggio dotate di termocamera radiometrica all’infrarosso, in grado di rilevare temperature che variano in una banda di oltre 500 gradi. la termocamera collegata una telecamera con un potente zoom il tuto montato su un dispositivo motorizzato, capace di compiere una scansione del territorio lunga distanza. sviluppato nel parco scientifico tecnologico di trieste area science park dall’azienda elimos, che utilizza reti wireless, eflame stato adottato dalla regione emilia romagna col supporto della protezione civile riguarda due siti appenninici emiliani dove l’apparecchiatura sarà messa alla prova nelle stazioni di controllo di cui si diceva. si tratta, come spiega l’azienda che lo ha realizzato, di un «sistema intelligente modulare di stazioni di monitoraggio in grado di effettuare localmente la rilevazione delle situazioni di pericolo d’incendio di trasmettere sia gli allarmi che le immagini del sito ad una postazione centrale, usando la rete di comunicazione disponibile». l’ambiente circostante viene sottoposto rilevazione “scannerizzato” mediante termocamere radiometriche infrarossi collegate un sistema di elaborazione che permette di rilevare tempestivamente «ogni situazione di potenziale innesco di focolai d’incendio, in ogni condizione ambientale di luminosità». quanto alle caratteristiche tecniche, il sistema utilizza un robusto algoritmo di fire detection (rilevamento del fuoco, ndr) con funzioni di preallarme allarme, telecamere ir compatte di ultima generazione, pan tilt integrato per la scansione del territorio circostante, trasmissione di allarmi immagini visibile infrarosso, satellite. le applicazioni di eflame riguardano, oltre alla protezione civile alla prevenzione incendi come in questo caso, le aree industriali, la sicurezza ambientale, le discariche abusive, centri di stoccaggio, depositi di materiale pericoloso infiammabile, le aree protette. \", \"tags\" \"np\", \"link\" http://www.lastampa.it/2017/07/25/italia/cronache/in-emilia-romagna-una-termocamera-che-aiuta-a-rilevare-gli-incendi-eh3uf8fzwzmwlecbbvn4hk/pagina.html\", \"condivisioni\" \"np\"\n"
     ]
    }
   ],
   "source": [
    "# -*- coding: utf-8 -*-\n",
    "import nltk\n",
    "import re\n",
    "from nltk.stem import SnowballStemmer\n",
    "from nltk.tokenize import sent_tokenize, word_tokenize\n",
    "from nltk.corpus import stopwords\n",
    "\n",
    "\n",
    "\n",
    "stemmer = SnowballStemmer(\"italian\") \n",
    "nltk.download('punkt')\n",
    "nltk.download('stopwords')\n",
    "\n",
    "\n",
    "path = '/root/Desktop/News'\n",
    "\n",
    "\n",
    "with  open(path, 'r') as to_clean:\n",
    "    one_line = ''\n",
    "    for string in to_clean.readlines():\n",
    "        one_line += string.lower()\n",
    "to_clean.close()\n",
    "    \n",
    "#Special espressions of html format\n",
    "to_replace = ['\\\\n','\\\\t','\\\\r', '\\\\', '&nbsp'] \n",
    "    \n",
    "for item in to_replace:\n",
    "    one_line = one_line.replace(item,' ') \n",
    "    \n",
    "half_cleaned = ' '.join(word for word in one_line.split() if len(word)>1)\n",
    "\n",
    "print(half_cleaned)\n"
   ]
  },
  {
   "cell_type": "code",
   "execution_count": 2,
   "metadata": {},
   "outputs": [
    {
     "name": "stdout",
     "output_type": "stream",
     "text": [
      "  id  objectid       c b         fa          newspaper   la stampa    resume  allo studio la fase sperimentale di un sistema di nuova generazione  dal nome programmatico di  eflame       author     franco giubilei       title   in emilia romagna una termocamera che aiuta rilevare gli incendi     date  pubblicato il                        text   la tecnologia viene messa al servizio della prevenzione degli incendi  in un periodo particolarmente drammatico per nostri boschi assediati dai piromani  allo studio la fase sperimentale di un sistema di nuova generazione  dal nome programmatico di  eflame   e sta per elettronico flame vuol dire fiamma  ndr   che consiste in due stazioni di monitoraggio dotate di termocamera radiometrica all infrarosso  in grado di rilevare temperature che variano in una banda di oltre     gradi  la termocamera collegata una telecamera con un potente zoom il tuto montato su un dispositivo motorizzato  capace di compiere una scansione del territorio lunga distanza  sviluppato nel parco scientifico tecnologico di trieste area science park dall azienda elimos  che utilizza reti wireless  eflame stato adottato dalla regione emilia romagna col supporto della protezione civile riguarda due siti appenninici emiliani dove l apparecchiatura sarà messa alla prova nelle stazioni di controllo di cui si diceva  si tratta  come spiega l azienda che lo ha realizzato  di un  sistema intelligente modulare di stazioni di monitoraggio in grado di effettuare localmente la rilevazione delle situazioni di pericolo d incendio di trasmettere sia gli allarmi che le immagini del sito ad una postazione centrale  usando la rete di comunicazione disponibile   l ambiente circostante viene sottoposto rilevazione  scannerizzato  mediante termocamere radiometriche infrarossi collegate un sistema di elaborazione che permette di rilevare tempestivamente  ogni situazione di potenziale innesco di focolai d incendio  in ogni condizione ambientale di luminosità   quanto alle caratteristiche tecniche  il sistema utilizza un robusto algoritmo di fire detection  rilevamento del fuoco  ndr  con funzioni di preallarme allarme  telecamere ir compatte di ultima generazione  pan tilt integrato per la scansione del territorio circostante  trasmissione di allarmi immagini visibile infrarosso  satellite  le applicazioni di eflame riguardano  oltre alla protezione civile alla prevenzione incendi come in questo caso  le aree industriali  la sicurezza ambientale  le discariche abusive  centri di stoccaggio  depositi di materiale pericoloso infiammabile  le aree protette      tags   np    link  http   www lastampa it            italia cronache in emilia romagna una termocamera che aiuta a rilevare gli incendi eh uf fzwzmwlecbbvn hk pagina html    condivisioni   np \n"
     ]
    }
   ],
   "source": [
    "\n",
    "cleaned = re.sub('[^a-zA-Zàéòùè]', ' ', half_cleaned)\n",
    "print(cleaned)\n"
   ]
  },
  {
   "cell_type": "code",
   "execution_count": 3,
   "metadata": {},
   "outputs": [
    {
     "name": "stdout",
     "output_type": "stream",
     "text": [
      "id objectid b fa newspaper stampa resume studio fase sperimentale sistema nuova generazione nome programmatico eflame author franco giubilei title emilia romagna termocamera aiuta rilevare incendi date pubblicato text tecnologia viene messa servizio prevenzione incendi periodo particolarmente drammatico boschi assediati piromani studio fase sperimentale sistema nuova generazione nome programmatico eflame elettronico flame vuol dire fiamma ndr consiste due stazioni monitoraggio dotate termocamera radiometrica infrarosso grado rilevare temperature variano banda oltre gradi termocamera collegata telecamera potente zoom tuto montato dispositivo motorizzato capace compiere scansione territorio lunga distanza sviluppato parco scientifico tecnologico trieste area science park azienda elimos utilizza reti wireless eflame stato adottato regione emilia romagna supporto protezione civile riguarda due siti appenninici emiliani apparecchiatura messa prova stazioni controllo diceva tratta spiega azienda realizzato sistema intelligente modulare stazioni monitoraggio grado effettuare localmente rilevazione situazioni pericolo d incendio trasmettere allarmi immagini sito postazione centrale usando rete comunicazione disponibile ambiente circostante viene sottoposto rilevazione scannerizzato mediante termocamere radiometriche infrarossi collegate sistema elaborazione permette rilevare tempestivamente ogni situazione potenziale innesco focolai d incendio ogni condizione ambientale luminosità caratteristiche tecniche sistema utilizza robusto algoritmo fire detection rilevamento fuoco ndr funzioni preallarme allarme telecamere ir compatte ultima generazione pan tilt integrato scansione territorio circostante trasmissione allarmi immagini visibile infrarosso satellite applicazioni eflame riguardano oltre protezione civile prevenzione incendi caso aree industriali sicurezza ambientale discariche abusive centri stoccaggio depositi materiale pericoloso infiammabile aree protette tags np link http www lastampa it italia cronache emilia romagna termocamera aiuta rilevare incendi eh uf fzwzmwlecbbvn hk pagina html condivisioni np\n"
     ]
    }
   ],
   "source": [
    "stopWords = set(stopwords.words('italian'))\n",
    "words = nltk.word_tokenize(cleaned) \n",
    "filtered = []\n",
    "for w in words:\n",
    "    if w not in stopWords:\n",
    "        filtered.append(w)\n",
    "\n",
    "        \n",
    "#sostituzione brutale....\n",
    "\n",
    "to_code = ' '.join(filtered)\n",
    "\n",
    "print(to_code)    \n"
   ]
  },
  {
   "cell_type": "code",
   "execution_count": 4,
   "metadata": {},
   "outputs": [
    {
     "name": "stdout",
     "output_type": "stream",
     "text": [
      " id objectid b fa newspaper stamp resum stud fas sperimental sistem nuov gener nom programmat eflam author franc giubile titl emil romagn termocamer aiut rilev incend dat pubblic text tecnolog vien mess serviz prevenzion incend period particolar drammat bosc assed piroman stud fas sperimental sistem nuov gener nom programmat eflam elettron flam vuol dir fiamm ndr consist due stazion monitoragg dot termocamer radiometr infraross grad rilev temperatur var band oltre grad termocamer colleg telecamer potent zoom tut mont disposit motorizz capac comp scansion territor lung distanz svilupp parc scientif tecnolog triest are scienc park azi elimos utilizz ret wireless eflam stat adott region emil romagn support protezion civil riguard due sit appennin emilian apparecchiatur mess prov stazion controll dic tratt spieg azi realizz sistem intelligent modul stazion monitoragg grad effettu local rilev situazion pericol d incend trasmett allarm immagin sit postazion central usand ret comun dispon ambient circost vien sottopost rilev scannerizz mediant termocam radiometr infraross colleg sistem elabor permett rilev tempest ogni situazion potenzial innesc focola d incend ogni condizion ambiental luminos caratterist tecnic sistem utilizz robust algoritm fir detection rilev fuoc ndr funzion preallarm allarm telecam ir compatt ultim gener pan tilt integr scansion territor circost trasmission allarm immagin visibil infraross satell applic eflam riguard oltre protezion civil prevenzion incend cas are industrial sicurezz ambiental discar abus centr stoccagg depos material pericol infiamm are protett tags np link http www lastamp it ital cronac emil romagn termocamer aiut rilev incend eh uf fzwzmwlecbbvn hk pagin html condivision np\n"
     ]
    }
   ],
   "source": [
    "\n",
    "tokens = nltk.word_tokenize(to_code)\n",
    "    \n",
    "stemmed_text = \"\"\n",
    "\n",
    "for token in tokens:\n",
    "    stemmed_text = stemmed_text + \" \" + stemmer.stem(token)\n",
    "\n",
    "print(stemmed_text)"
   ]
  },
  {
   "cell_type": "code",
   "execution_count": 5,
   "metadata": {},
   "outputs": [],
   "source": [
    "with open(path, 'w') as to_stem:\n",
    "    to_stem.write(stemmed_text) \n",
    "to_stem.close()"
   ]
  },
  {
   "cell_type": "code",
   "execution_count": null,
   "metadata": {
    "collapsed": true
   },
   "outputs": [],
   "source": []
  }
 ],
 "metadata": {
  "kernelspec": {
   "display_name": "Python 3",
   "language": "python",
   "name": "python3"
  },
  "language_info": {
   "codemirror_mode": {
    "name": "ipython",
    "version": 3
   },
   "file_extension": ".py",
   "mimetype": "text/x-python",
   "name": "python",
   "nbconvert_exporter": "python",
   "pygments_lexer": "ipython3",
   "version": "3.6.1"
  }
 },
 "nbformat": 4,
 "nbformat_minor": 2
}
