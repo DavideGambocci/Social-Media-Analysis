{
 "cells": [
  {
   "cell_type": "code",
   "execution_count": 6,
   "metadata": {
    "scrolled": true
   },
   "outputs": [],
   "source": [
    "import re\n",
    "\n",
    "# Routine for cleaning documents\n",
    "def clean(path):\n",
    "    \n",
    "    with  open(path, 'r') as to_clean:\n",
    "        one_line = ''\n",
    "        for string in to_clean.readlines():\n",
    "            one_line += string.lower()\n",
    "    to_clean.close()\n",
    "    \n",
    "    #Special espressions of html format\n",
    "    to_replace = ['\\\\n','\\\\t','\\\\r', '\\\\', '&nbsp'] \n",
    "    \n",
    "    for item in to_replace:\n",
    "        one_line = one_line.replace(item,' ') \n",
    "\n",
    "    cleaned = ' '.join(word for word in one_line.split() if len(word)>1)\n",
    "    \n",
    "    # All other special characters\n",
    "    definitive = re.sub('[^a-zA-Zàéòùè]', ' ', cleaned)\n",
    "    \n",
    "    # Just the stopwords remain\n",
    "    \n",
    "    with open(path, 'w') as to_clean:\n",
    "        to_clean.write(definitive) \n",
    "        \n",
    "    to_clean.close()\n",
    "    \n",
    "    return \n",
    "\n",
    "path = '/root/Desktop/News'\n",
    "\n",
    "clean(path)"
   ]
  },
  {
   "cell_type": "code",
   "execution_count": null,
   "metadata": {
    "collapsed": true
   },
   "outputs": [],
   "source": []
  },
  {
   "cell_type": "code",
   "execution_count": null,
   "metadata": {
    "collapsed": true
   },
   "outputs": [],
   "source": []
  }
 ],
 "metadata": {
  "kernelspec": {
   "display_name": "Python 3",
   "language": "python",
   "name": "python3"
  },
  "language_info": {
   "codemirror_mode": {
    "name": "ipython",
    "version": 3
   },
   "file_extension": ".py",
   "mimetype": "text/x-python",
   "name": "python",
   "nbconvert_exporter": "python",
   "pygments_lexer": "ipython3",
   "version": "3.6.1"
  }
 },
 "nbformat": 4,
 "nbformat_minor": 2
}
