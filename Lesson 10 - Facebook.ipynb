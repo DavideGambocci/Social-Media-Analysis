{
 "cells": [
  {
   "cell_type": "code",
   "execution_count": 2,
   "metadata": {},
   "outputs": [
    {
     "ename": "ImportError",
     "evalue": "No module named facebook",
     "output_type": "error",
     "traceback": [
      "\u001b[0;31m---------------------------------------------------------------------------\u001b[0m",
      "\u001b[0;31mImportError\u001b[0m                               Traceback (most recent call last)",
      "\u001b[0;32m<ipython-input-2-fcb8b54973ed>\u001b[0m in \u001b[0;36m<module>\u001b[0;34m()\u001b[0m\n\u001b[0;32m----> 1\u001b[0;31m \u001b[0;32mimport\u001b[0m \u001b[0mfacebook\u001b[0m\u001b[0;34m\u001b[0m\u001b[0m\n\u001b[0m\u001b[1;32m      2\u001b[0m \u001b[0;32mimport\u001b[0m \u001b[0mjson\u001b[0m\u001b[0;34m\u001b[0m\u001b[0m\n\u001b[1;32m      3\u001b[0m \u001b[0;34m\u001b[0m\u001b[0m\n\u001b[1;32m      4\u001b[0m \u001b[0;34m\u001b[0m\u001b[0m\n\u001b[1;32m      5\u001b[0m \u001b[0;31m# Funzione ausiliaria che useremo per stampare a schermo in modo leggibile\u001b[0m\u001b[0;34m\u001b[0m\u001b[0;34m\u001b[0m\u001b[0m\n",
      "\u001b[0;31mImportError\u001b[0m: No module named facebook"
     ]
    }
   ],
   "source": [
    "import facebook\n",
    "import json\n",
    "\n",
    "\n",
    "# Funzione ausiliaria che useremo per stampare a schermo in modo leggibile\n",
    "# i documenti JSon ottenuti dalle varie interrogazioni\n",
    "def pp(s):\n",
    "    print json.dumps(s, indent=1)\n",
    "    \n",
    "# prende in input il codice identificativo della pagina e restituisce in output\n",
    "# una lista di python contenente: about, address, engagement, category, fan count, checkins\n",
    "def estraiattributi(input):\n",
    "    global g\n",
    "    r = g.get_object(id=input,fields='about,engagement, category, fan_count, checkins')\n",
    "    return [r['category'],r['fan_count'],r['engagement'],r['checkins']]\n",
    "\n",
    "# stabilisce una connessione con Facebook\n",
    "g = facebook.GraphAPI(access_token='EAACEdEose0cBAGTy8iNdLM0Mnyygt9UscSaCwcpHafZAntK210K6dfTp6tQvy6Ae8znedlIlv3X4IWG29lOGgAtDAH9t0K42roMbC5413tutU077QysErgDbTGTwjTSOvn8gqGAjpKlIbBcBqHS2qnnR4WWwfzbMAkUjOjmh21Y4rRGMmk1mNC6NYkqYZD', version='2.7')\n",
    "\n",
    "# print 'Trump', estraiattributi('153080620724')[1]\n",
    "# print 'Clinton', estraiattributi('889307941125736')[1]\n",
    "\n",
    "# Ottengo l'elenco dei primi n items che ho apprezzato\n",
    "# pp(g.get_connections('me','likes')['data'])\n",
    "\n",
    "pp(g.get_object(id = '179618821150', fields = 'website,about,engagement, category, fan_count, checkins,posts')['posts']['data'])\n",
    "\n",
    "\n",
    "#for i in g.get_connections('me','likes')['data']:\n",
    "#    print i['id'], i['name'], i['created_time']\n",
    "    \n",
    "# Esercizio 1: Date due realtà antagoniste (squadre di calcio, personaggi politici, brand)\n",
    "# determinare quale delle due è la più popolare in termini di numero di friends e numero di like\n",
    "# Per poter rispondere a questa domanda, occorre codificare una funzione che prende in input\n",
    "# il codice identificativo della pagina e restituisce in output una lista di python\n",
    "# contenente: about, address, engagement, category, fan count, checkins\n",
    "# Determinare come estrarre queste informazioni visitando la pagina\n",
    "# in corrispondenza dell'oggetto 'Page' \n",
    "# https://developers.facebook.com/docs/graph-api/reference/\n",
    "\n",
    "# Esploriamo la nostra rete di amicizie e, per ogni amico,\n",
    "# estrapoliamo l'elenco dei contenuti di FB che ha apprezzato (like)\n",
    "#for i in g.get_connections('me','friends')['data']:\n",
    "#    print i['name']\n",
    "#   pp(g.get_connections(i['id'],'likes')['data'])\n",
    "\n",
    "# Esercizio 2: estrapolare l'elenco dei contenuti sui quali ciascuno dei nostri amici\n",
    "# ha fatto like, mantenendo un conteggio della frequenza di ciascuno di questi\n",
    "# Obiettivo è determinare quale contenuto è stato apprezzato più volte"
   ]
  },
  {
   "cell_type": "code",
   "execution_count": null,
   "metadata": {
    "collapsed": true
   },
   "outputs": [],
   "source": [
    "\n",
    "\n",
    "\n"
   ]
  },
  {
   "cell_type": "code",
   "execution_count": null,
   "metadata": {
    "collapsed": true
   },
   "outputs": [],
   "source": []
  }
 ],
 "metadata": {
  "kernelspec": {
   "display_name": "Python 2",
   "language": "python",
   "name": "python2"
  },
  "language_info": {
   "codemirror_mode": {
    "name": "ipython",
    "version": 2
   },
   "file_extension": ".py",
   "mimetype": "text/x-python",
   "name": "python",
   "nbconvert_exporter": "python",
   "pygments_lexer": "ipython2",
   "version": "2.7.13"
  }
 },
 "nbformat": 4,
 "nbformat_minor": 2
}
